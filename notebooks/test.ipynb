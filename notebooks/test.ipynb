{
 "cells": [
  {
   "cell_type": "code",
   "execution_count": null,
   "metadata": {},
   "outputs": [],
   "source": [
    "import os\n",
    "os.environ['CUDA_VISIBLE_DEVICES'] = \"0,1,2,3\"\n",
    "\n",
    "import torch\n",
    "from transformers import ViTForImageClassification, ViTFeatureExtractor"
   ]
  },
  {
   "cell_type": "code",
   "execution_count": null,
   "metadata": {},
   "outputs": [],
   "source": [
    "device = torch.device('cuda' if torch.cuda.is_available() else 'cpu')\n",
    "device"
   ]
  },
  {
   "cell_type": "code",
   "execution_count": null,
   "metadata": {},
   "outputs": [],
   "source": [
    "feature_extractor = ViTFeatureExtractor.from_pretrained('google/vit-base-patch16-224-in21k')\n",
    "model = ViTForImageClassification.from_pretrained('google/vit-base-patch16-224-in21k',\n",
    "                                                  num_labels=8)"
   ]
  },
  {
   "cell_type": "code",
   "execution_count": null,
   "metadata": {},
   "outputs": [],
   "source": [
    "from torchaffectnet import AffectNetDataset\n",
    "from torchvision.transforms import (Compose,\n",
    "                                    Normalize,\n",
    "                                    Resize,\n",
    "                                    RandomResizedCrop,\n",
    "                                    RandomHorizontalFlip,\n",
    "                                    RandomApply,\n",
    "                                    ColorJitter,\n",
    "                                    RandomGrayscale,\n",
    "                                    ToTensor,\n",
    "                                    RandomAffine)\n",
    "\n",
    "normalize = Normalize(mean=feature_extractor.image_mean, std=feature_extractor.image_std)\n",
    "\n",
    "transform = Compose([\n",
    "        Resize(tuple(feature_extractor.size.values())),\n",
    "        ToTensor(),\n",
    "    ])\n",
    "\n",
    "# transform = Compose([\n",
    "#         RandomResizedCrop(size=tuple(\n",
    "#             feature_extractor.size.values()), scale=(0.2, 1.)),\n",
    "#         RandomHorizontalFlip(),\n",
    "#         RandomApply([\n",
    "#             ColorJitter(0.4, 0.4, 0.4, 0.1)\n",
    "#         ], p=0.8),\n",
    "#         ToTensor(),\n",
    "#         # normalize\n",
    "#     ])\n",
    "\n",
    "\n",
    "emotion_dataset = AffectNetDataset('../../Affectnet/validation.csv',\n",
    "                                   '../../Affectnet/Manually_Annotated/Manually_Annotated_Images/',\n",
    "                                   transform=transform,\n",
    "                                   mode='classification')"
   ]
  },
  {
   "cell_type": "code",
   "execution_count": null,
   "metadata": {},
   "outputs": [],
   "source": [
    "from transformers import TrainingArguments, Trainer\n",
    "\n",
    "args = TrainingArguments(\n",
    "    f\"test\",\n",
    "    save_strategy=\"epoch\",\n",
    "    learning_rate=2e-5,\n",
    "    per_device_train_batch_size=5,\n",
    "    per_device_eval_batch_size=1,\n",
    "    num_train_epochs=3,\n",
    "    weight_decay=0.01,\n",
    "    logging_dir='logs',\n",
    "    remove_unused_columns=False,\n",
    "    no_cuda=True\n",
    ")\n",
    "args.device"
   ]
  },
  {
   "cell_type": "code",
   "execution_count": null,
   "metadata": {},
   "outputs": [],
   "source": [
    "from torchaffectnet.collators import Collator\n",
    "\n",
    "trainer = Trainer(\n",
    "    model,\n",
    "    args,\n",
    "    train_dataset=emotion_dataset,\n",
    "    data_collator=Collator(),\n",
    "    tokenizer=feature_extractor,\n",
    ")"
   ]
  },
  {
   "cell_type": "code",
   "execution_count": null,
   "metadata": {},
   "outputs": [],
   "source": [
    "trainer.train()"
   ]
  },
  {
   "cell_type": "code",
   "execution_count": null,
   "metadata": {},
   "outputs": [],
   "source": [
    "from tqdm import tqdm\n",
    "\n",
    "def head_outputs(model, dataset, device):\n",
    "    features = []\n",
    "    labels = []\n",
    "    for img, label in tqdm(dataset):\n",
    "        if isinstance(img, tuple):\n",
    "            img = img[0]\n",
    "        with torch.no_grad():\n",
    "            feature = model(img.unsqueeze(0).to(device)).logits\n",
    "        # print(feature)\n",
    "        features.append(feature.cpu())\n",
    "        labels.append(label)\n",
    "    return torch.stack(features).squeeze(), torch.tensor(labels)"
   ]
  },
  {
   "cell_type": "code",
   "execution_count": null,
   "metadata": {},
   "outputs": [],
   "source": [
    "features, labels = head_outputs(model.to(device), dataset, device)\n",
    "# features, labels = CLS_tokens(model.to(device), dataset, device)"
   ]
  },
  {
   "cell_type": "code",
   "execution_count": null,
   "metadata": {},
   "outputs": [],
   "source": [
    "from utils import exclude_id\n",
    "\n",
    "id2label = {\n",
    "            0: 'valence < -0.5',\n",
    "            1: '-0.5 <= valence <= 0.5',\n",
    "            2: '0.5 < valence',\n",
    "        }\n",
    "fig = plot_tokens_category(features, labels, 20, id2label, 0)"
   ]
  },
  {
   "cell_type": "code",
   "execution_count": null,
   "metadata": {},
   "outputs": [],
   "source": []
  }
 ],
 "metadata": {
  "kernelspec": {
   "display_name": "AffectNet-experiments-e17pgDV_",
   "language": "python",
   "name": "python3"
  },
  "language_info": {
   "codemirror_mode": {
    "name": "ipython",
    "version": 3
   },
   "file_extension": ".py",
   "mimetype": "text/x-python",
   "name": "python",
   "nbconvert_exporter": "python",
   "pygments_lexer": "ipython3",
   "version": "3.10.12"
  },
  "orig_nbformat": 4
 },
 "nbformat": 4,
 "nbformat_minor": 2
}
