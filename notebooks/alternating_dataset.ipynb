{
 "cells": [
  {
   "cell_type": "code",
   "execution_count": 1,
   "metadata": {},
   "outputs": [],
   "source": [
    "import os, sys\n",
    "sys.path += [os.path.dirname('../scripts/')]"
   ]
  },
  {
   "cell_type": "code",
   "execution_count": 2,
   "metadata": {},
   "outputs": [],
   "source": [
    "model_ckpt = 'CL_valaro_z64_bs512'"
   ]
  },
  {
   "cell_type": "code",
   "execution_count": 3,
   "metadata": {},
   "outputs": [
    {
     "name": "stderr",
     "output_type": "stream",
     "text": [
      "/home/rkn/.local/share/virtualenvs/AffectNet-experiments-e17pgDV_/lib/python3.10/site-packages/tqdm/auto.py:21: TqdmWarning: IProgress not found. Please update jupyter and ipywidgets. See https://ipywidgets.readthedocs.io/en/stable/user_install.html\n",
      "  from .autonotebook import tqdm as notebook_tqdm\n",
      "/home/rkn/.local/share/virtualenvs/AffectNet-experiments-e17pgDV_/lib/python3.10/site-packages/transformers/models/vit/feature_extraction_vit.py:28: FutureWarning: The class ViTFeatureExtractor is deprecated and will be removed in version 5 of Transformers. Please use ViTImageProcessor instead.\n",
      "  warnings.warn(\n"
     ]
    }
   ],
   "source": [
    "from transformers import ViTFeatureExtractor, ViTForImageClassification\n",
    "\n",
    "feature_extractor = ViTFeatureExtractor.from_pretrained('../outputs/' + model_ckpt + '/model')"
   ]
  },
  {
   "cell_type": "code",
   "execution_count": 4,
   "metadata": {},
   "outputs": [
    {
     "data": {
      "text/plain": [
       "<dataset.AlternatingDataset at 0x7fd4910b5630>"
      ]
     },
     "execution_count": 4,
     "metadata": {},
     "output_type": "execute_result"
    }
   ],
   "source": [
    "from dataset import AlternatingDataset, AffectNetDatasetForSupConWithValenceArousal\n",
    "from torchaffectnet import AffectNetDatasetForSupCon\n",
    "from torchvision.transforms import (Compose,\n",
    "                                    Normalize,\n",
    "                                    Resize,\n",
    "                                    RandomResizedCrop,\n",
    "                                    RandomHorizontalFlip,\n",
    "                                    RandomApply,\n",
    "                                    ColorJitter,\n",
    "                                    RandomGrayscale,\n",
    "                                    ToTensor,\n",
    "                                    RandomAffine)\n",
    "\n",
    "normalize = Normalize(mean=feature_extractor.image_mean,\n",
    "                          std=feature_extractor.image_std)\n",
    "\n",
    "transform1 = Compose([\n",
    "    RandomAffine(30),\n",
    "    Resize(tuple(feature_extractor.size.values())),\n",
    "    ToTensor(),\n",
    "    normalize,\n",
    "])\n",
    "\n",
    "transform2 = Compose([\n",
    "    RandomResizedCrop(size=tuple(\n",
    "        feature_extractor.size.values()), scale=(0.2, 1.)),\n",
    "    RandomHorizontalFlip(),\n",
    "    RandomApply([\n",
    "        ColorJitter(0.4, 0.4, 0.4, 0.1)\n",
    "    ], p=0.8),\n",
    "    ToTensor(),\n",
    "    normalize\n",
    "])\n",
    "\n",
    "valaro_dataset = AffectNetDatasetForSupConWithValenceArousal('../../Affectnet/validation.csv',\n",
    "                                                             '../../Affectnet/Manually_Annotated/Manually_Annotated_Images/',\n",
    "                                                             transform1=transform1,\n",
    "                                                             transform2=transform2,\n",
    "                                                             exclude_label=[8,9,10])\n",
    "expression_dataset = AffectNetDatasetForSupCon('../../Affectnet/validation.csv',\n",
    "                                               '../../Affectnet/Manually_Annotated/Manually_Annotated_Images/',\n",
    "                                               transform1=transform1,\n",
    "                                               transform2=transform2,\n",
    "                                               exclude_label=[8,9,10])\n",
    "\n",
    "dataset = AlternatingDataset(valaro_dataset, expression_dataset)\n",
    "dataset"
   ]
  },
  {
   "cell_type": "code",
   "execution_count": 6,
   "metadata": {},
   "outputs": [
    {
     "data": {
      "text/plain": [
       "(((tensor([[[-1., -1., -1.,  ..., -1., -1., -1.],\n",
       "            [-1., -1., -1.,  ..., -1., -1., -1.],\n",
       "            [-1., -1., -1.,  ..., -1., -1., -1.],\n",
       "            ...,\n",
       "            [-1., -1., -1.,  ..., -1., -1., -1.],\n",
       "            [-1., -1., -1.,  ..., -1., -1., -1.],\n",
       "            [-1., -1., -1.,  ..., -1., -1., -1.]],\n",
       "   \n",
       "           [[-1., -1., -1.,  ..., -1., -1., -1.],\n",
       "            [-1., -1., -1.,  ..., -1., -1., -1.],\n",
       "            [-1., -1., -1.,  ..., -1., -1., -1.],\n",
       "            ...,\n",
       "            [-1., -1., -1.,  ..., -1., -1., -1.],\n",
       "            [-1., -1., -1.,  ..., -1., -1., -1.],\n",
       "            [-1., -1., -1.,  ..., -1., -1., -1.]],\n",
       "   \n",
       "           [[-1., -1., -1.,  ..., -1., -1., -1.],\n",
       "            [-1., -1., -1.,  ..., -1., -1., -1.],\n",
       "            [-1., -1., -1.,  ..., -1., -1., -1.],\n",
       "            ...,\n",
       "            [-1., -1., -1.,  ..., -1., -1., -1.],\n",
       "            [-1., -1., -1.,  ..., -1., -1., -1.],\n",
       "            [-1., -1., -1.,  ..., -1., -1., -1.]]]),\n",
       "   tensor([[[-0.1294, -0.1294, -0.1059,  ..., -0.0039, -0.0118, -0.0275],\n",
       "            [-0.1373, -0.1373, -0.1294,  ..., -0.0196, -0.0196, -0.0353],\n",
       "            [-0.1373, -0.1294, -0.1216,  ..., -0.0431, -0.0353, -0.0510],\n",
       "            ...,\n",
       "            [-0.0980, -0.0980, -0.1059,  ..., -0.1059, -0.1059, -0.1137],\n",
       "            [-0.0980, -0.0902, -0.1059,  ..., -0.0980, -0.1137, -0.1137],\n",
       "            [-0.0980, -0.0902, -0.1059,  ..., -0.1294, -0.1216, -0.1216]],\n",
       "   \n",
       "           [[-0.2549, -0.2471, -0.2235,  ..., -0.1294, -0.1373, -0.1294],\n",
       "            [-0.2471, -0.2471, -0.2314,  ..., -0.1451, -0.1451, -0.1373],\n",
       "            [-0.2471, -0.2471, -0.2392,  ..., -0.1608, -0.1529, -0.1529],\n",
       "            ...,\n",
       "            [-0.2235, -0.2235, -0.2471,  ..., -0.2235, -0.2235, -0.2314],\n",
       "            [-0.2235, -0.2235, -0.2392,  ..., -0.2157, -0.2235, -0.2157],\n",
       "            [-0.2157, -0.2157, -0.2314,  ..., -0.2392, -0.2235, -0.2235]],\n",
       "   \n",
       "           [[-0.4353, -0.4275, -0.4118,  ..., -0.3098, -0.3176, -0.3098],\n",
       "            [-0.4353, -0.4353, -0.4196,  ..., -0.3098, -0.3255, -0.3255],\n",
       "            [-0.4275, -0.4353, -0.4275,  ..., -0.3255, -0.3255, -0.3412],\n",
       "            ...,\n",
       "            [-0.4039, -0.4196, -0.4353,  ..., -0.4039, -0.4039, -0.4118],\n",
       "            [-0.4118, -0.4118, -0.4275,  ..., -0.3961, -0.4039, -0.4118],\n",
       "            [-0.4118, -0.4118, -0.4196,  ..., -0.4275, -0.4196, -0.4353]]])),\n",
       "  tensor([-0.6533,  0.6533])),\n",
       " ((tensor([[[-1., -1., -1.,  ..., -1., -1., -1.],\n",
       "            [-1., -1., -1.,  ..., -1., -1., -1.],\n",
       "            [-1., -1., -1.,  ..., -1., -1., -1.],\n",
       "            ...,\n",
       "            [-1., -1., -1.,  ..., -1., -1., -1.],\n",
       "            [-1., -1., -1.,  ..., -1., -1., -1.],\n",
       "            [-1., -1., -1.,  ..., -1., -1., -1.]],\n",
       "   \n",
       "           [[-1., -1., -1.,  ..., -1., -1., -1.],\n",
       "            [-1., -1., -1.,  ..., -1., -1., -1.],\n",
       "            [-1., -1., -1.,  ..., -1., -1., -1.],\n",
       "            ...,\n",
       "            [-1., -1., -1.,  ..., -1., -1., -1.],\n",
       "            [-1., -1., -1.,  ..., -1., -1., -1.],\n",
       "            [-1., -1., -1.,  ..., -1., -1., -1.]],\n",
       "   \n",
       "           [[-1., -1., -1.,  ..., -1., -1., -1.],\n",
       "            [-1., -1., -1.,  ..., -1., -1., -1.],\n",
       "            [-1., -1., -1.,  ..., -1., -1., -1.],\n",
       "            ...,\n",
       "            [-1., -1., -1.,  ..., -1., -1., -1.],\n",
       "            [-1., -1., -1.,  ..., -1., -1., -1.],\n",
       "            [-1., -1., -1.,  ..., -1., -1., -1.]]]),\n",
       "   tensor([[[ 0.0824,  0.0902,  0.0902,  ..., -0.5059, -0.8431, -0.8980],\n",
       "            [ 0.0745,  0.0824,  0.0902,  ..., -0.2392, -0.6078, -0.8353],\n",
       "            [ 0.0745,  0.0667,  0.0745,  ..., -0.2000, -0.4039, -0.6941],\n",
       "            ...,\n",
       "            [-0.4745, -0.4431, -0.4431,  ..., -0.7804, -0.7725, -0.7804],\n",
       "            [-0.4902, -0.4824, -0.5216,  ..., -0.7569, -0.7647, -0.7882],\n",
       "            [-0.4667, -0.5059, -0.5451,  ..., -0.7569, -0.7569, -0.7647]],\n",
       "   \n",
       "           [[ 0.1451,  0.1451,  0.1451,  ..., -0.4510, -0.7569, -0.8039],\n",
       "            [ 0.1451,  0.1451,  0.1451,  ..., -0.1686, -0.5529, -0.7882],\n",
       "            [ 0.1451,  0.1373,  0.1373,  ..., -0.1373, -0.3569, -0.6627],\n",
       "            ...,\n",
       "            [-0.6000, -0.5922, -0.5922,  ..., -0.7647, -0.7725, -0.7569],\n",
       "            [-0.6157, -0.6000, -0.6235,  ..., -0.7725, -0.7804, -0.7647],\n",
       "            [-0.6000, -0.6157, -0.6471,  ..., -0.7804, -0.7804, -0.7804]],\n",
       "   \n",
       "           [[-0.2157, -0.2314, -0.2314,  ..., -0.5922, -0.8510, -0.9059],\n",
       "            [-0.2314, -0.2392, -0.2392,  ..., -0.4510, -0.7020, -0.8588],\n",
       "            [-0.2314, -0.2392, -0.2392,  ..., -0.4431, -0.5765, -0.7725],\n",
       "            ...,\n",
       "            [-0.2863, -0.2157, -0.2235,  ..., -0.7569, -0.7490, -0.7647],\n",
       "            [-0.3020, -0.2941, -0.3020,  ..., -0.7490, -0.7412, -0.7647],\n",
       "            [-0.3176, -0.3412, -0.3412,  ..., -0.7490, -0.7490, -0.7569]]])),\n",
       "  tensor(7)))"
      ]
     },
     "execution_count": 6,
     "metadata": {},
     "output_type": "execute_result"
    }
   ],
   "source": [
    "dataset[0]"
   ]
  },
  {
   "cell_type": "code",
   "execution_count": 11,
   "metadata": {},
   "outputs": [],
   "source": [
    "from typing import Any, Dict\n",
    "from torchaffectnet.collators import Collator\n",
    "import torch\n",
    "\n",
    "\n",
    "class AlternatingCollator(Collator):\n",
    "    def __init__(self, return_labels=[True, True]) -> None:\n",
    "        super().__init__()\n",
    "        self.return_labels1 = return_labels[0]\n",
    "        self.return_labels2 = return_labels[1]\n",
    "    \n",
    "    def collate_fn(self, examples) -> Dict[str, Any]:\n",
    "        data1, data2 = zip(*examples)\n",
    "        if self.return_labels1:\n",
    "            data1_imgs, data1_targets = zip(*data1)\n",
    "            data1_targets = torch.stack(data1_targets)\n",
    "        else:\n",
    "            data1_imgs = data1\n",
    "        \n",
    "        if self.return_labels2:\n",
    "            data2_imgs, data2_targets = zip(*data2)\n",
    "            data2_targets = torch.stack(data2_targets)\n",
    "        else:\n",
    "            data2_imgs = data2\n",
    "        \n",
    "        data1_imgs1, data1_imgs2 = zip(*data1_imgs)\n",
    "        data1_imgs1 = torch.stack(data1_imgs1)\n",
    "        data1_imgs2 = torch.stack(data1_imgs2)\n",
    "        \n",
    "        data2_imgs1, data2_imgs2 = zip(*data2_imgs)\n",
    "        data2_imgs1 = torch.stack(data2_imgs1)\n",
    "        data2_imgs2 = torch.stack(data2_imgs2)\n",
    "        \n",
    "        pixel_values1 = torch.cat([data1_imgs1, data1_imgs2])\n",
    "        pixel_values2 = torch.cat([data2_imgs1, data2_imgs2])\n",
    "        \n",
    "        output = []\n",
    "        if self.return_labels1:\n",
    "            output.append(\n",
    "                {'pixel_values': pixel_values1, 'labels': data1_targets}\n",
    "            )\n",
    "        else:\n",
    "            output.append({'pixel_values': pixel_values1})\n",
    "        if self.return_labels2:\n",
    "            output.append(\n",
    "                {'pixel_values': pixel_values2, 'labels': data2_targets}\n",
    "            )\n",
    "        else:\n",
    "            output.append({'pixel_values': pixel_values2})\n",
    "        \n",
    "        return output"
   ]
  },
  {
   "cell_type": "code",
   "execution_count": 15,
   "metadata": {},
   "outputs": [
    {
     "name": "stdout",
     "output_type": "stream",
     "text": [
      "torch.Size([8, 3, 224, 224])\n",
      "torch.Size([4, 2])\n",
      "torch.Size([8, 3, 224, 224])\n",
      "torch.Size([4])\n"
     ]
    }
   ],
   "source": [
    "from torch.utils.data import DataLoader\n",
    "\n",
    "train_dataloader = DataLoader(dataset, collate_fn=AlternatingCollator(), batch_size=4)\n",
    "\n",
    "batch = next(iter(train_dataloader))\n",
    "print(batch[0]['pixel_values'].shape)\n",
    "print(batch[0]['labels'].shape)\n",
    "print(batch[1]['pixel_values'].shape)\n",
    "print(batch[1]['labels'].shape)"
   ]
  },
  {
   "cell_type": "code",
   "execution_count": null,
   "metadata": {},
   "outputs": [],
   "source": []
  }
 ],
 "metadata": {
  "kernelspec": {
   "display_name": "AffectNet-experiments-e17pgDV_",
   "language": "python",
   "name": "python3"
  },
  "language_info": {
   "codemirror_mode": {
    "name": "ipython",
    "version": 3
   },
   "file_extension": ".py",
   "mimetype": "text/x-python",
   "name": "python",
   "nbconvert_exporter": "python",
   "pygments_lexer": "ipython3",
   "version": "3.10.12"
  },
  "orig_nbformat": 4
 },
 "nbformat": 4,
 "nbformat_minor": 2
}
