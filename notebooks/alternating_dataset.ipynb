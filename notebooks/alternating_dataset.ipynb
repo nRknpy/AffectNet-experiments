{
 "cells": [
  {
   "cell_type": "code",
   "execution_count": 1,
   "metadata": {},
   "outputs": [],
   "source": [
    "import os, sys\n",
    "sys.path += [os.path.dirname('../scripts/')]"
   ]
  },
  {
   "cell_type": "code",
   "execution_count": 3,
   "metadata": {},
   "outputs": [],
   "source": [
    "model_ckpt = 'CL_valaro_z64_bs512'"
   ]
  },
  {
   "cell_type": "code",
   "execution_count": 4,
   "metadata": {},
   "outputs": [
    {
     "name": "stderr",
     "output_type": "stream",
     "text": [
      "/home/rkn/.local/share/virtualenvs/AffectNet-experiments-e17pgDV_/lib/python3.10/site-packages/transformers/models/vit/feature_extraction_vit.py:28: FutureWarning: The class ViTFeatureExtractor is deprecated and will be removed in version 5 of Transformers. Please use ViTImageProcessor instead.\n",
      "  warnings.warn(\n"
     ]
    }
   ],
   "source": [
    "from transformers import ViTFeatureExtractor, ViTForImageClassification\n",
    "\n",
    "feature_extractor = ViTFeatureExtractor.from_pretrained('google/vit-base-patch16-224-in21k')"
   ]
  },
  {
   "cell_type": "code",
   "execution_count": 5,
   "metadata": {},
   "outputs": [
    {
     "data": {
      "text/plain": [
       "<dataset.AlternatingDataset at 0x7fa87c5566e0>"
      ]
     },
     "execution_count": 5,
     "metadata": {},
     "output_type": "execute_result"
    }
   ],
   "source": [
    "from dataset import AlternatingDataset, AffectNetDatasetForSupConWithValenceArousal\n",
    "from torchaffectnet import AffectNetDatasetForSupCon\n",
    "from torchvision.transforms import (Compose,\n",
    "                                    Normalize,\n",
    "                                    Resize,\n",
    "                                    RandomResizedCrop,\n",
    "                                    RandomHorizontalFlip,\n",
    "                                    RandomApply,\n",
    "                                    ColorJitter,\n",
    "                                    RandomGrayscale,\n",
    "                                    ToTensor,\n",
    "                                    RandomAffine)\n",
    "\n",
    "normalize = Normalize(mean=feature_extractor.image_mean,\n",
    "                          std=feature_extractor.image_std)\n",
    "\n",
    "transform1 = Compose([\n",
    "    RandomAffine(30),\n",
    "    Resize(tuple(feature_extractor.size.values())),\n",
    "    ToTensor(),\n",
    "    normalize,\n",
    "])\n",
    "\n",
    "transform2 = Compose([\n",
    "    RandomResizedCrop(size=tuple(\n",
    "        feature_extractor.size.values()), scale=(0.2, 1.)),\n",
    "    RandomHorizontalFlip(),\n",
    "    RandomApply([\n",
    "        ColorJitter(0.4, 0.4, 0.4, 0.1)\n",
    "    ], p=0.8),\n",
    "    ToTensor(),\n",
    "    normalize\n",
    "])\n",
    "\n",
    "valaro_dataset = AffectNetDatasetForSupConWithValenceArousal('../../Affectnet/validation.csv',\n",
    "                                                             '../../Affectnet/Manually_Annotated/Manually_Annotated_Images/',\n",
    "                                                             transform1=transform1,\n",
    "                                                             transform2=transform2,\n",
    "                                                             exclude_label=[8,9,10])\n",
    "expression_dataset = AffectNetDatasetForSupCon('../../Affectnet/validation.csv',\n",
    "                                               '../../Affectnet/Manually_Annotated/Manually_Annotated_Images/',\n",
    "                                               transform1=transform1,\n",
    "                                               transform2=transform2,\n",
    "                                               exclude_label=[8,9,10])\n",
    "\n",
    "dataset = AlternatingDataset(valaro_dataset, expression_dataset, batch_size=4, alter_steps=2)\n",
    "dataset"
   ]
  },
  {
   "cell_type": "code",
   "execution_count": 5,
   "metadata": {},
   "outputs": [],
   "source": [
    "from torch.utils.data import DataLoader\n",
    "from dataset import AlternatingContrastiveCollator\n",
    "\n",
    "train_dataloader = DataLoader(dataset, collate_fn=AlternatingContrastiveCollator(), batch_size=4)\n",
    "iter_ = iter(train_dataloader)"
   ]
  },
  {
   "cell_type": "code",
   "execution_count": 6,
   "metadata": {},
   "outputs": [
    {
     "name": "stdout",
     "output_type": "stream",
     "text": [
      "torch.Size([8, 3, 224, 224])\n",
      "torch.Size([4, 2])\n",
      "0\n"
     ]
    }
   ],
   "source": [
    "batch = next(iter_)\n",
    "print(batch['pixel_values'].shape)\n",
    "print(batch['labels'].shape)\n",
    "print(batch['dataset_id'])"
   ]
  },
  {
   "cell_type": "code",
   "execution_count": 7,
   "metadata": {},
   "outputs": [
    {
     "name": "stdout",
     "output_type": "stream",
     "text": [
      "torch.Size([8, 3, 224, 224])\n",
      "torch.Size([4, 2])\n",
      "0\n"
     ]
    }
   ],
   "source": [
    "batch = next(iter_)\n",
    "print(batch['pixel_values'].shape)\n",
    "print(batch['labels'].shape)\n",
    "print(batch['dataset_id'])"
   ]
  },
  {
   "cell_type": "code",
   "execution_count": 8,
   "metadata": {},
   "outputs": [
    {
     "name": "stdout",
     "output_type": "stream",
     "text": [
      "torch.Size([8, 3, 224, 224])\n",
      "torch.Size([4])\n",
      "1\n"
     ]
    }
   ],
   "source": [
    "batch = next(iter_)\n",
    "print(batch['pixel_values'].shape)\n",
    "print(batch['labels'].shape)\n",
    "print(batch['dataset_id'])"
   ]
  },
  {
   "cell_type": "code",
   "execution_count": 9,
   "metadata": {},
   "outputs": [
    {
     "name": "stdout",
     "output_type": "stream",
     "text": [
      "torch.Size([8, 3, 224, 224])\n",
      "torch.Size([4])\n",
      "1\n"
     ]
    }
   ],
   "source": [
    "batch = next(iter_)\n",
    "print(batch['pixel_values'].shape)\n",
    "print(batch['labels'].shape)\n",
    "print(batch['dataset_id'])"
   ]
  },
  {
   "cell_type": "code",
   "execution_count": 10,
   "metadata": {},
   "outputs": [
    {
     "name": "stdout",
     "output_type": "stream",
     "text": [
      "torch.Size([8, 3, 224, 224])\n",
      "torch.Size([4, 2])\n",
      "0\n"
     ]
    }
   ],
   "source": [
    "batch = next(iter_)\n",
    "print(batch['pixel_values'].shape)\n",
    "print(batch['labels'].shape)\n",
    "print(batch['dataset_id'])"
   ]
  },
  {
   "cell_type": "code",
   "execution_count": 11,
   "metadata": {},
   "outputs": [
    {
     "name": "stdout",
     "output_type": "stream",
     "text": [
      "torch.Size([8, 3, 224, 224])\n",
      "torch.Size([4, 2])\n",
      "0\n"
     ]
    }
   ],
   "source": [
    "batch = next(iter_)\n",
    "print(batch['pixel_values'].shape)\n",
    "print(batch['labels'].shape)\n",
    "print(batch['dataset_id'])"
   ]
  },
  {
   "cell_type": "code",
   "execution_count": 12,
   "metadata": {},
   "outputs": [
    {
     "name": "stdout",
     "output_type": "stream",
     "text": [
      "torch.Size([8, 3, 224, 224])\n",
      "torch.Size([4])\n",
      "1\n"
     ]
    }
   ],
   "source": [
    "batch = next(iter_)\n",
    "print(batch['pixel_values'].shape)\n",
    "print(batch['labels'].shape)\n",
    "print(batch['dataset_id'])"
   ]
  },
  {
   "cell_type": "code",
   "execution_count": 13,
   "metadata": {},
   "outputs": [
    {
     "name": "stdout",
     "output_type": "stream",
     "text": [
      "torch.Size([8, 3, 224, 224])\n",
      "torch.Size([4])\n",
      "1\n"
     ]
    }
   ],
   "source": [
    "batch = next(iter_)\n",
    "print(batch['pixel_values'].shape)\n",
    "print(batch['labels'].shape)\n",
    "print(batch['dataset_id'])"
   ]
  },
  {
   "cell_type": "code",
   "execution_count": 14,
   "metadata": {},
   "outputs": [
    {
     "name": "stdout",
     "output_type": "stream",
     "text": [
      "torch.Size([8, 3, 224, 224])\n",
      "torch.Size([4, 2])\n",
      "0\n"
     ]
    }
   ],
   "source": [
    "batch = next(iter_)\n",
    "print(batch['pixel_values'].shape)\n",
    "print(batch['labels'].shape)\n",
    "print(batch['dataset_id'])"
   ]
  },
  {
   "cell_type": "code",
   "execution_count": 15,
   "metadata": {},
   "outputs": [
    {
     "name": "stdout",
     "output_type": "stream",
     "text": [
      "torch.Size([8, 3, 224, 224])\n",
      "torch.Size([4, 2])\n",
      "0\n"
     ]
    }
   ],
   "source": [
    "batch = next(iter_)\n",
    "print(batch['pixel_values'].shape)\n",
    "print(batch['labels'].shape)\n",
    "print(batch['dataset_id'])"
   ]
  },
  {
   "cell_type": "code",
   "execution_count": null,
   "metadata": {},
   "outputs": [],
   "source": []
  }
 ],
 "metadata": {
  "kernelspec": {
   "display_name": "AffectNet-experiments-e17pgDV_",
   "language": "python",
   "name": "python3"
  },
  "language_info": {
   "codemirror_mode": {
    "name": "ipython",
    "version": 3
   },
   "file_extension": ".py",
   "mimetype": "text/x-python",
   "name": "python",
   "nbconvert_exporter": "python",
   "pygments_lexer": "ipython3",
   "version": "3.10.12"
  },
  "orig_nbformat": 4
 },
 "nbformat": 4,
 "nbformat_minor": 2
}
