{
 "cells": [
  {
   "cell_type": "code",
   "execution_count": null,
   "metadata": {},
   "outputs": [],
   "source": [
    "model_ckpt = 'CL_expression_after_valaro_z64_bs512'"
   ]
  },
  {
   "cell_type": "code",
   "execution_count": null,
   "metadata": {},
   "outputs": [],
   "source": [
    "import os\n",
    "import sys\n",
    "\n",
    "sys.path += [os.path.dirname('../scripts/')]"
   ]
  },
  {
   "cell_type": "code",
   "execution_count": null,
   "metadata": {},
   "outputs": [],
   "source": [
    "import numpy as np\n",
    "import pandas as pd\n",
    "import pickle as pkl\n",
    "import torch\n",
    "\n",
    "from GWTune.src.align_representations import Representation, AlignRepresentations, OptimizationConfig, VisualizationConfig"
   ]
  },
  {
   "cell_type": "code",
   "execution_count": null,
   "metadata": {},
   "outputs": [],
   "source": [
    "device = 'cuda' if torch.cuda.is_available() else 'cpu'\n",
    "device"
   ]
  },
  {
   "cell_type": "code",
   "execution_count": null,
   "metadata": {},
   "outputs": [],
   "source": [
    "token_valaro = pd.read_csv(f'./data/{model_ckpt}token_and_valaro.csv', header=None)\n",
    "token_emotion = pd.read_csv(f'./data/CL_expression_after_valaro_z64_bs512token_and_emotion.csv', header=None)\n",
    "valaro = token_valaro.iloc[:, -2:].values\n",
    "token = token_valaro.iloc[:, :-2].values\n",
    "emotion = token_emotion.iloc[:, -1].values"
   ]
  },
  {
   "cell_type": "code",
   "execution_count": null,
   "metadata": {},
   "outputs": [],
   "source": [
    "from utils import exclude_id\n",
    "from GWTune.src.utils.utils_functions import get_category_data, sort_matrix_with_categories\n",
    "\n",
    "\n",
    "category_mat = pd.get_dummies(emotion)\n",
    "id2label, _ = exclude_id([8,9,10])\n",
    "category_mat.columns = id2label.values()\n",
    "\n",
    "object_labels, category_idx_list, num_category_list, category_name_list = get_category_data(category_mat = category_mat)"
   ]
  },
  {
   "cell_type": "code",
   "execution_count": null,
   "metadata": {},
   "outputs": [],
   "source": [
    "from utils import exclude_id\n",
    "from GWTune.src.utils.utils_functions import get_category_data, sort_matrix_with_categories\n",
    "\n",
    "\n",
    "category_mat = pd.get_dummies(emotion)\n",
    "id2label, _ = exclude_id([8,9,10])\n",
    "category_mat.columns = id2label.values()\n",
    "\n",
    "object_labels, category_idx_list, num_category_list, category_name_list = get_category_data(category_mat = category_mat)\n",
    "\n",
    "representations = []\n",
    "for name, emb in zip(['CLS-token', 'val-aro'],\n",
    "                     [token, valaro]):\n",
    "    representation = Representation(\n",
    "        name=name,\n",
    "        embedding=emb,\n",
    "        metric='seuclidean',\n",
    "        get_embedding=False,\n",
    "        object_labels=object_labels,\n",
    "        category_name_list=category_name_list,\n",
    "        category_idx_list=category_idx_list,\n",
    "        num_category_list=num_category_list, \n",
    "        func_for_sort_sim_mat=sort_matrix_with_categories,\n",
    "    )\n",
    "    representations.append(representation)"
   ]
  },
  {
   "cell_type": "code",
   "execution_count": null,
   "metadata": {},
   "outputs": [],
   "source": [
    "eps_list_tutorial = [1e-4, 1e-2]\n",
    "to_types = 'torch'\n",
    "\n",
    "# whether epsilon is sampled at log scale or not\n",
    "eps_log = True\n",
    "num_trial = 10\n",
    "\n",
    "init_mat_plan = \"random\""
   ]
  },
  {
   "cell_type": "code",
   "execution_count": null,
   "metadata": {},
   "outputs": [],
   "source": [
    "if device == 'cuda':\n",
    "    sinkhorn_method = 'sinkhorn_log' # please choose the method of sinkhorn implemented by POT (URL : https://pythonot.github.io/gen_modules/ot.bregman.html#id87). For using GPU, \"sinkhorn_log\" is recommended.\n",
    "    data_type= 'float'\n",
    "    multi_gpu = [1, 2, 3]\n",
    "\n",
    "elif device == 'cpu':\n",
    "    sinkhorn_method = 'sinkhorn'\n",
    "    data_type = 'double'\n",
    "    multi_gpu = False"
   ]
  },
  {
   "cell_type": "code",
   "execution_count": null,
   "metadata": {},
   "outputs": [],
   "source": [
    "config = OptimizationConfig(    \n",
    "    eps_list = eps_list_tutorial,\n",
    "    eps_log = eps_log, \n",
    "    num_trial = num_trial,\n",
    "    sinkhorn_method=sinkhorn_method,\n",
    "    \n",
    "    to_types = to_types,\n",
    "    device = device,\n",
    "    data_type = data_type, \n",
    "    \n",
    "    n_jobs = 4,\n",
    "    multi_gpu = multi_gpu, \n",
    "    db_params={\"drivername\": \"sqlite\"},\n",
    "    \n",
    "    init_mat_plan = init_mat_plan,\n",
    "    \n",
    "    n_iter = 1,\n",
    "    max_iter = 1000,\n",
    "    \n",
    "    sampler_name = 'tpe',\n",
    "    pruner_name = 'hyperband',\n",
    "    pruner_params = {'n_startup_trials': 1, \n",
    "                     'n_warmup_steps': 2, \n",
    "                     'min_resource': 2, \n",
    "                     'reduction_factor' : 3\n",
    "                    },\n",
    ")"
   ]
  },
  {
   "cell_type": "code",
   "execution_count": null,
   "metadata": {},
   "outputs": [],
   "source": [
    "align_representation = AlignRepresentations(\n",
    "    config=config,\n",
    "    representations_list=representations,   \n",
    "   \n",
    "    # histogram matching : this will adjust the histogram of target to that of source.\n",
    "    histogram_matching=False,\n",
    "\n",
    "    # metric : The metric for computing the distance between the embeddings. Please set the metric tha can be used in \"scipy.spatical.distance.cdist()\".\n",
    "    metric=\"seuclidean\", \n",
    "\n",
    "    # main_results_dir : folder or file name when saving the result\n",
    "    main_results_dir =  \"./GWOT_results/\" + '/seuclidean/' + model_ckpt,\n",
    "   \n",
    "    # data_name : Please rewrite this name if users want to use their own data.\n",
    "    data_name = model_ckpt,\n",
    ")"
   ]
  },
  {
   "cell_type": "code",
   "execution_count": null,
   "metadata": {},
   "outputs": [],
   "source": [
    "sim_mat_format = \"sorted\"\n",
    "\n",
    "visualize_config = VisualizationConfig(\n",
    "    figsize=(12, 12),\n",
    "    title_size = 15,\n",
    "    cmap = 'rocket_r',\n",
    "    ot_object_tick=False,\n",
    "    fig_ext='svg',\n",
    "    ot_category_tick=True,\n",
    "    draw_category_line=True,\n",
    "    colorbar_range=None\n",
    ")\n",
    "\n",
    "visualize_hist = VisualizationConfig(figsize=(8, 6), color='C0')\n",
    "\n",
    "sim_mat = align_representation.show_sim_mat(\n",
    "    sim_mat_format = sim_mat_format, \n",
    "    visualization_config = visualize_config,\n",
    "    visualization_config_hist = visualize_hist,\n",
    "    show_distribution=False,\n",
    "    \n",
    ")"
   ]
  },
  {
   "cell_type": "code",
   "execution_count": null,
   "metadata": {},
   "outputs": [],
   "source": [
    "align_representation.RSA_get_corr(metric = \"pearson\")"
   ]
  },
  {
   "cell_type": "code",
   "execution_count": null,
   "metadata": {},
   "outputs": [],
   "source": [
    "visualize_config = VisualizationConfig(\n",
    "    show_figure=True,\n",
    "    figsize=(8, 6), \n",
    "    title_size = 15, \n",
    "    ot_object_tick=True,\n",
    "    plot_eps_log=eps_log,\n",
    "    cmap='viridis'\n",
    ")\n",
    "\n",
    "ot_mat = align_representation.gw_alignment(\n",
    "    compute_OT = False,\n",
    "    delete_results = False,\n",
    "    return_data = True,\n",
    "    return_figure = True,\n",
    "    OT_format = sim_mat_format,\n",
    "    visualization_config = visualize_config,\n",
    ")"
   ]
  },
  {
   "cell_type": "code",
   "execution_count": null,
   "metadata": {},
   "outputs": [],
   "source": [
    "align_representation.show_optimization_log(fig_dir=None, visualization_config=visualize_config)"
   ]
  },
  {
   "cell_type": "code",
   "execution_count": null,
   "metadata": {},
   "outputs": [],
   "source": [
    "ot_df: pd.DataFrame = align_representation.calc_accuracy(top_k_list = [1, 5, 10], eval_type = \"ot_plan\", return_dataframe=True)\n",
    "align_representation.plot_accuracy(eval_type = \"ot_plan\", scatter = True)\n",
    "\n",
    "ot_df.to_csv(\"./GWOT_results/\" + f'{model_ckpt}/' + 'op_plan_accuracy_.csv')"
   ]
  },
  {
   "cell_type": "code",
   "execution_count": null,
   "metadata": {},
   "outputs": [],
   "source": [
    "category_df = align_representation.calc_accuracy(top_k_list = [1, 5, 10], eval_type = \"category\", category_mat=category_mat, return_dataframe=True)\n",
    "align_representation.plot_accuracy(eval_type = \"category\", scatter = True)\n",
    "\n",
    "category_df.to_csv(\"./GWOT_results/\" + f'{model_ckpt}/' + 'category_accuracy_.csv')"
   ]
  },
  {
   "cell_type": "code",
   "execution_count": null,
   "metadata": {},
   "outputs": [],
   "source": [
    "def sorted2raw_indices(object_labels):\n",
    "    output = {}\n",
    "    for sorted_idx, raw_idx in enumerate(object_labels):\n",
    "        output[sorted_idx] = raw_idx\n",
    "    return output\n",
    "\n",
    "\n",
    "def find_matching(ot):\n",
    "    _matching = {}\n",
    "    for k, v in enumerate(np.argmax(ot, axis=1)):\n",
    "        _matching[k] = v\n",
    "    idx_conv = sorted2raw_indices(object_labels)\n",
    "    matching = {}\n",
    "    for k, v in _matching.items():\n",
    "        matching[idx_conv[k]] = idx_conv[v]\n",
    "    return matching\n",
    "\n",
    "\n",
    "def eval_valaro(ot_mat, align_representation):\n",
    "    l = []\n",
    "    for pairwise, ot in zip(align_representation.pairwise_list, ot_mat):\n",
    "        pair_name = pairwise.pair_name\n",
    "        matching = find_matching(ot)\n",
    "        valaro_dist = 0\n",
    "        for k, v in matching.items():\n",
    "            valaro_dist += np.linalg.norm(valaro[k] - valaro[v])\n",
    "        valaro_dist /= ot.shape[0]\n",
    "        print(f'{pair_name}: {valaro_dist}')"
   ]
  },
  {
   "cell_type": "code",
   "execution_count": null,
   "metadata": {},
   "outputs": [],
   "source": [
    "eval_valaro(ot_mat, align_representation)"
   ]
  },
  {
   "cell_type": "code",
   "execution_count": null,
   "metadata": {},
   "outputs": [],
   "source": [
    "# visualization_embedding = VisualizationConfig(\n",
    "#     cmap=\"cool\",\n",
    "#     colorbar_label=\"frame\",\n",
    "#     colorbar_range=[0, 30],\n",
    "#     color_labels=None,\n",
    "#     color_hue=\"cool\", # If \"color_labels=None\", you have the option to choose the color hue as either \"cool\", \"warm\", or \"None\".\n",
    "#     figsize=(10, 10), \n",
    "#     xlabel=\"PC1\", \n",
    "#     ylabel=\"PC2\",\n",
    "#     marker_size=50,\n",
    "#     legend_size=11\n",
    "# )\n",
    "\n",
    "# align_representation.visualize_embedding(\n",
    "#     dim=2, # the dimensionality of the space the points are embedded in. You can choose either 2 or 3.\n",
    "#     pivot=0, # the number of one of the representations or the \"barycenter\".\n",
    "#     visualization_config=visualization_embedding\n",
    "# )"
   ]
  },
  {
   "cell_type": "code",
   "execution_count": null,
   "metadata": {},
   "outputs": [],
   "source": []
  }
 ],
 "metadata": {
  "kernelspec": {
   "display_name": "AffectNet-experiments-e17pgDV_",
   "language": "python",
   "name": "python3"
  },
  "language_info": {
   "codemirror_mode": {
    "name": "ipython",
    "version": 3
   },
   "file_extension": ".py",
   "mimetype": "text/x-python",
   "name": "python",
   "nbconvert_exporter": "python",
   "pygments_lexer": "ipython3",
   "version": "3.10.12"
  },
  "orig_nbformat": 4
 },
 "nbformat": 4,
 "nbformat_minor": 2
}
